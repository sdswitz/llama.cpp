{
 "cells": [
  {
   "cell_type": "code",
   "execution_count": null,
   "metadata": {},
   "outputs": [],
   "source": [
    "./quantize ./models/code-7b-pyth/ggml-model-f16.gguf ./models/code-7b-pyth/ggml-model-q4_0.gguf q4_0"
   ]
  },
  {
   "cell_type": "code",
   "execution_count": null,
   "metadata": {},
   "outputs": [],
   "source": [
    "./quantize ./models/code-7b-pyth/ggml-model-q4_0.gguf ./models/code-7b-pyth/ggml-model-q4_0-v2.gguf COPY"
   ]
  },
  {
   "cell_type": "code",
   "execution_count": null,
   "metadata": {},
   "outputs": [],
   "source": [
    "./main -m ./models/code-7b-pyth/ggml-model-q4_0.gguf -n 128"
   ]
  },
  {
   "cell_type": "code",
   "execution_count": null,
   "metadata": {},
   "outputs": [],
   "source": [
    "./main -m models/code-7b-pyth/ggml-model-q4_0.gguf --prompt \"write a function that multiplies two numbers in python\"\n",
    "\n",
    "./main -m models/code-7b-pyth/ggml-model-q4_0.gguf --prompt \"once upon a time\"\n",
    "\n",
    "./main -m models/code-7b-pyth/ggml-model-q4_0.gguf --interactive-first"
   ]
  }
 ],
 "metadata": {
  "language_info": {
   "name": "python"
  },
  "orig_nbformat": 4
 },
 "nbformat": 4,
 "nbformat_minor": 2
}
